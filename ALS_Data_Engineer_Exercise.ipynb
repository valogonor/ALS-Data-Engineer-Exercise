{
  "nbformat": 4,
  "nbformat_minor": 0,
  "metadata": {
    "colab": {
      "name": "ALS Data Engineer Exercise.ipynb",
      "provenance": [],
      "authorship_tag": "ABX9TyPU8DJE7pICcwW8Awowslo0",
      "include_colab_link": true
    },
    "kernelspec": {
      "name": "python3",
      "display_name": "Python 3"
    }
  },
  "cells": [
    {
      "cell_type": "markdown",
      "metadata": {
        "id": "view-in-github",
        "colab_type": "text"
      },
      "source": [
        "<a href=\"https://colab.research.google.com/github/valogonor/ALS-Data-Engineer-Exercise/blob/master/ALS_Data_Engineer_Exercise.ipynb\" target=\"_parent\"><img src=\"https://colab.research.google.com/assets/colab-badge.svg\" alt=\"Open In Colab\"/></a>"
      ]
    },
    {
      "cell_type": "code",
      "metadata": {
        "id": "VDrzeAcfPfzJ",
        "colab_type": "code",
        "colab": {
          "base_uri": "https://localhost:8080/",
          "height": 400
        },
        "outputId": "f5aaea60-46c6-4c4e-f8d6-820c20559cb9"
      },
      "source": [
        "import pandas as pd\n",
        "cons = pd.read_csv('https://als-hiring.s3.amazonaws.com/fake_data/2020-07-01_17%3A11%3A00/cons.csv')\n",
        "cons.head()"
      ],
      "execution_count": 1,
      "outputs": [
        {
          "output_type": "execute_result",
          "data": {
            "text/html": [
              "<div>\n",
              "<style scoped>\n",
              "    .dataframe tbody tr th:only-of-type {\n",
              "        vertical-align: middle;\n",
              "    }\n",
              "\n",
              "    .dataframe tbody tr th {\n",
              "        vertical-align: top;\n",
              "    }\n",
              "\n",
              "    .dataframe thead th {\n",
              "        text-align: right;\n",
              "    }\n",
              "</style>\n",
              "<table border=\"1\" class=\"dataframe\">\n",
              "  <thead>\n",
              "    <tr style=\"text-align: right;\">\n",
              "      <th></th>\n",
              "      <th>cons_id</th>\n",
              "      <th>prefix</th>\n",
              "      <th>firstname</th>\n",
              "      <th>middlename</th>\n",
              "      <th>lastname</th>\n",
              "      <th>suffix</th>\n",
              "      <th>salutation</th>\n",
              "      <th>gender</th>\n",
              "      <th>birth_dt</th>\n",
              "      <th>title</th>\n",
              "      <th>employer</th>\n",
              "      <th>occupation</th>\n",
              "      <th>income</th>\n",
              "      <th>source</th>\n",
              "      <th>subsource</th>\n",
              "      <th>userid</th>\n",
              "      <th>password</th>\n",
              "      <th>is_validated</th>\n",
              "      <th>is_banned</th>\n",
              "      <th>change_password_next_login</th>\n",
              "      <th>consent_type_id</th>\n",
              "      <th>create_dt</th>\n",
              "      <th>create_app</th>\n",
              "      <th>create_user</th>\n",
              "      <th>modified_dt</th>\n",
              "      <th>modified_app</th>\n",
              "      <th>modified_user</th>\n",
              "      <th>status</th>\n",
              "      <th>note</th>\n",
              "    </tr>\n",
              "  </thead>\n",
              "  <tbody>\n",
              "    <tr>\n",
              "      <th>0</th>\n",
              "      <td>1</td>\n",
              "      <td>NaN</td>\n",
              "      <td>NaN</td>\n",
              "      <td>Lee</td>\n",
              "      <td>NaN</td>\n",
              "      <td>MD</td>\n",
              "      <td>NaN</td>\n",
              "      <td>E</td>\n",
              "      <td>NaN</td>\n",
              "      <td>vSkSIzEQJdXnqeTTTXSG</td>\n",
              "      <td>NaN</td>\n",
              "      <td>NaN</td>\n",
              "      <td>2.971606e+10</td>\n",
              "      <td>google</td>\n",
              "      <td>NaN</td>\n",
              "      <td>3663</td>\n",
              "      <td>_kXcXaoK7i</td>\n",
              "      <td>1</td>\n",
              "      <td>0</td>\n",
              "      <td>0</td>\n",
              "      <td>5958</td>\n",
              "      <td>Fri, 1983-08-26 06:02:03</td>\n",
              "      <td>1484</td>\n",
              "      <td>6162</td>\n",
              "      <td>Sun, 2015-12-27 09:28:02</td>\n",
              "      <td>4022</td>\n",
              "      <td>6349</td>\n",
              "      <td>1</td>\n",
              "      <td>NaN</td>\n",
              "    </tr>\n",
              "    <tr>\n",
              "      <th>1</th>\n",
              "      <td>2</td>\n",
              "      <td>NaN</td>\n",
              "      <td>NaN</td>\n",
              "      <td>NaN</td>\n",
              "      <td>NaN</td>\n",
              "      <td>II</td>\n",
              "      <td>boFqBKgLlSgEZsFrgCZd</td>\n",
              "      <td>E</td>\n",
              "      <td>Mon, 2004-11-15</td>\n",
              "      <td>NaN</td>\n",
              "      <td>NaN</td>\n",
              "      <td>NaN</td>\n",
              "      <td>6.717468e+02</td>\n",
              "      <td>facebook</td>\n",
              "      <td>pRzBAZSGNScwCyreCEYr</td>\n",
              "      <td>7125</td>\n",
              "      <td>Ll3ZUxnh*9</td>\n",
              "      <td>0</td>\n",
              "      <td>0</td>\n",
              "      <td>1</td>\n",
              "      <td>4236</td>\n",
              "      <td>Mon, 1979-03-05 21:08:54</td>\n",
              "      <td>4176</td>\n",
              "      <td>5476</td>\n",
              "      <td>Tue, 1989-06-20 13:28:57</td>\n",
              "      <td>9010</td>\n",
              "      <td>5698</td>\n",
              "      <td>1</td>\n",
              "      <td>NaN</td>\n",
              "    </tr>\n",
              "    <tr>\n",
              "      <th>2</th>\n",
              "      <td>3</td>\n",
              "      <td>NaN</td>\n",
              "      <td>NaN</td>\n",
              "      <td>David</td>\n",
              "      <td>King</td>\n",
              "      <td>NaN</td>\n",
              "      <td>NaN</td>\n",
              "      <td>D</td>\n",
              "      <td>Fri, 1994-04-08</td>\n",
              "      <td>bxGxufoNzpKvjwNIxgRj</td>\n",
              "      <td>iPUtgXtqIBEaxQxaMMsr</td>\n",
              "      <td>NaN</td>\n",
              "      <td>NaN</td>\n",
              "      <td>NaN</td>\n",
              "      <td>UAWXnALxxBXmwbPibFdw</td>\n",
              "      <td>5202</td>\n",
              "      <td>&amp;@sU8IaE+L</td>\n",
              "      <td>1</td>\n",
              "      <td>0</td>\n",
              "      <td>1</td>\n",
              "      <td>1263</td>\n",
              "      <td>Fri, 2008-08-22 19:20:28</td>\n",
              "      <td>4702</td>\n",
              "      <td>8239</td>\n",
              "      <td>Fri, 2020-06-05 18:13:57</td>\n",
              "      <td>8837</td>\n",
              "      <td>1175</td>\n",
              "      <td>1</td>\n",
              "      <td>NaN</td>\n",
              "    </tr>\n",
              "    <tr>\n",
              "      <th>3</th>\n",
              "      <td>4</td>\n",
              "      <td>Ms.</td>\n",
              "      <td>Mark</td>\n",
              "      <td>Gregg</td>\n",
              "      <td>NaN</td>\n",
              "      <td>NaN</td>\n",
              "      <td>NaN</td>\n",
              "      <td>J</td>\n",
              "      <td>NaN</td>\n",
              "      <td>NaN</td>\n",
              "      <td>pFxPMIlwpLmWhylhVPlq</td>\n",
              "      <td>NaN</td>\n",
              "      <td>8.233324e+09</td>\n",
              "      <td>google</td>\n",
              "      <td>NaN</td>\n",
              "      <td>1591</td>\n",
              "      <td>5vVPwqxK)g</td>\n",
              "      <td>0</td>\n",
              "      <td>0</td>\n",
              "      <td>0</td>\n",
              "      <td>949</td>\n",
              "      <td>Sun, 1984-04-29 11:18:18</td>\n",
              "      <td>7096</td>\n",
              "      <td>7875</td>\n",
              "      <td>Tue, 2012-01-31 07:26:35</td>\n",
              "      <td>7529</td>\n",
              "      <td>3984</td>\n",
              "      <td>1</td>\n",
              "      <td>NaN</td>\n",
              "    </tr>\n",
              "    <tr>\n",
              "      <th>4</th>\n",
              "      <td>5</td>\n",
              "      <td>NaN</td>\n",
              "      <td>NaN</td>\n",
              "      <td>Logan</td>\n",
              "      <td>NaN</td>\n",
              "      <td>DDS</td>\n",
              "      <td>ArvPJuEozHPaqbirovMi</td>\n",
              "      <td>D</td>\n",
              "      <td>Sun, 2008-08-10</td>\n",
              "      <td>kXKlKCyCBoXUBVejPOVO</td>\n",
              "      <td>NaN</td>\n",
              "      <td>QpESbZrLQlRIjKabyAKb</td>\n",
              "      <td>NaN</td>\n",
              "      <td>NaN</td>\n",
              "      <td>NaN</td>\n",
              "      <td>4578</td>\n",
              "      <td>S%3cXL#sKt</td>\n",
              "      <td>1</td>\n",
              "      <td>0</td>\n",
              "      <td>0</td>\n",
              "      <td>7126</td>\n",
              "      <td>Thu, 2007-07-19 18:28:09</td>\n",
              "      <td>706</td>\n",
              "      <td>5727</td>\n",
              "      <td>Tue, 1971-04-27 06:53:53</td>\n",
              "      <td>9356</td>\n",
              "      <td>6062</td>\n",
              "      <td>1</td>\n",
              "      <td>NaN</td>\n",
              "    </tr>\n",
              "  </tbody>\n",
              "</table>\n",
              "</div>"
            ],
            "text/plain": [
              "   cons_id prefix firstname  ... modified_user status note\n",
              "0        1    NaN       NaN  ...          6349      1  NaN\n",
              "1        2    NaN       NaN  ...          5698      1  NaN\n",
              "2        3    NaN       NaN  ...          1175      1  NaN\n",
              "3        4    Ms.      Mark  ...          3984      1  NaN\n",
              "4        5    NaN       NaN  ...          6062      1  NaN\n",
              "\n",
              "[5 rows x 29 columns]"
            ]
          },
          "metadata": {
            "tags": []
          },
          "execution_count": 1
        }
      ]
    },
    {
      "cell_type": "code",
      "metadata": {
        "id": "c7pZQBTiPyFo",
        "colab_type": "code",
        "colab": {
          "base_uri": "https://localhost:8080/",
          "height": 434
        },
        "outputId": "27b7d771-3c79-46f8-cbda-4470ae30f6c6"
      },
      "source": [
        "email = pd.read_csv('https://als-hiring.s3.amazonaws.com/fake_data/2020-07-01_17%3A11%3A00/cons_email.csv')\n",
        "email.head()"
      ],
      "execution_count": 2,
      "outputs": [
        {
          "output_type": "execute_result",
          "data": {
            "text/html": [
              "<div>\n",
              "<style scoped>\n",
              "    .dataframe tbody tr th:only-of-type {\n",
              "        vertical-align: middle;\n",
              "    }\n",
              "\n",
              "    .dataframe tbody tr th {\n",
              "        vertical-align: top;\n",
              "    }\n",
              "\n",
              "    .dataframe thead th {\n",
              "        text-align: right;\n",
              "    }\n",
              "</style>\n",
              "<table border=\"1\" class=\"dataframe\">\n",
              "  <thead>\n",
              "    <tr style=\"text-align: right;\">\n",
              "      <th></th>\n",
              "      <th>cons_email_id</th>\n",
              "      <th>cons_id</th>\n",
              "      <th>cons_email_type_id</th>\n",
              "      <th>is_primary</th>\n",
              "      <th>email</th>\n",
              "      <th>canonical_local_part</th>\n",
              "      <th>domain</th>\n",
              "      <th>double_validation</th>\n",
              "      <th>create_dt</th>\n",
              "      <th>create_app</th>\n",
              "      <th>create_user</th>\n",
              "      <th>modified_dt</th>\n",
              "      <th>modified_app</th>\n",
              "      <th>modified_user</th>\n",
              "      <th>status</th>\n",
              "      <th>note</th>\n",
              "    </tr>\n",
              "  </thead>\n",
              "  <tbody>\n",
              "    <tr>\n",
              "      <th>0</th>\n",
              "      <td>1</td>\n",
              "      <td>548198</td>\n",
              "      <td>3361</td>\n",
              "      <td>1</td>\n",
              "      <td>xmartinez@vincent.com</td>\n",
              "      <td>NaN</td>\n",
              "      <td>gmail.com</td>\n",
              "      <td>NaN</td>\n",
              "      <td>Wed, 1994-01-26 23:49:16</td>\n",
              "      <td>4072</td>\n",
              "      <td>9954</td>\n",
              "      <td>Sat, 2014-04-19 19:10:39</td>\n",
              "      <td>1990</td>\n",
              "      <td>7595</td>\n",
              "      <td>1</td>\n",
              "      <td>NaN</td>\n",
              "    </tr>\n",
              "    <tr>\n",
              "      <th>1</th>\n",
              "      <td>2</td>\n",
              "      <td>491137</td>\n",
              "      <td>2474</td>\n",
              "      <td>1</td>\n",
              "      <td>hmiller@haynes.biz</td>\n",
              "      <td>jqCyozTDojYuylQPTHfm</td>\n",
              "      <td>hotmail.com</td>\n",
              "      <td>NaN</td>\n",
              "      <td>Thu, 1999-12-09 06:18:27</td>\n",
              "      <td>1600</td>\n",
              "      <td>5716</td>\n",
              "      <td>Sat, 1984-07-14 05:55:27</td>\n",
              "      <td>4686</td>\n",
              "      <td>3248</td>\n",
              "      <td>1</td>\n",
              "      <td>NaN</td>\n",
              "    </tr>\n",
              "    <tr>\n",
              "      <th>2</th>\n",
              "      <td>3</td>\n",
              "      <td>413429</td>\n",
              "      <td>5175</td>\n",
              "      <td>1</td>\n",
              "      <td>aaron64@yahoo.com</td>\n",
              "      <td>FCBeBiVoqnnKDWjnllhN</td>\n",
              "      <td>yahoo.com</td>\n",
              "      <td>kRLZexQEwYIMbwFNvQxg</td>\n",
              "      <td>Wed, 1992-11-18 16:46:27</td>\n",
              "      <td>7358</td>\n",
              "      <td>2685</td>\n",
              "      <td>Sun, 1995-12-24 13:13:01</td>\n",
              "      <td>3857</td>\n",
              "      <td>7405</td>\n",
              "      <td>1</td>\n",
              "      <td>NaN</td>\n",
              "    </tr>\n",
              "    <tr>\n",
              "      <th>3</th>\n",
              "      <td>4</td>\n",
              "      <td>347346</td>\n",
              "      <td>4117</td>\n",
              "      <td>1</td>\n",
              "      <td>wyattvincent@hotmail.com</td>\n",
              "      <td>NaN</td>\n",
              "      <td>gmail.com</td>\n",
              "      <td>zSbfmlqXimGyWVBUGdQg</td>\n",
              "      <td>Sat, 1983-11-26 16:49:14</td>\n",
              "      <td>881</td>\n",
              "      <td>3444</td>\n",
              "      <td>Sun, 1975-01-19 14:32:56</td>\n",
              "      <td>8713</td>\n",
              "      <td>7713</td>\n",
              "      <td>1</td>\n",
              "      <td>NaN</td>\n",
              "    </tr>\n",
              "    <tr>\n",
              "      <th>4</th>\n",
              "      <td>5</td>\n",
              "      <td>443000</td>\n",
              "      <td>6781</td>\n",
              "      <td>1</td>\n",
              "      <td>tspencer@hotmail.com</td>\n",
              "      <td>VaQIYlKcUkIywkKKEptD</td>\n",
              "      <td>gmail.com</td>\n",
              "      <td>NaN</td>\n",
              "      <td>Wed, 2000-11-15 13:28:34</td>\n",
              "      <td>5380</td>\n",
              "      <td>5456</td>\n",
              "      <td>Sun, 1994-03-13 16:38:37</td>\n",
              "      <td>765</td>\n",
              "      <td>8618</td>\n",
              "      <td>1</td>\n",
              "      <td>NaN</td>\n",
              "    </tr>\n",
              "  </tbody>\n",
              "</table>\n",
              "</div>"
            ],
            "text/plain": [
              "   cons_email_id  cons_id  cons_email_type_id  ...  modified_user status note\n",
              "0              1   548198                3361  ...           7595      1  NaN\n",
              "1              2   491137                2474  ...           3248      1  NaN\n",
              "2              3   413429                5175  ...           7405      1  NaN\n",
              "3              4   347346                4117  ...           7713      1  NaN\n",
              "4              5   443000                6781  ...           8618      1  NaN\n",
              "\n",
              "[5 rows x 16 columns]"
            ]
          },
          "metadata": {
            "tags": []
          },
          "execution_count": 2
        }
      ]
    },
    {
      "cell_type": "code",
      "metadata": {
        "id": "Vy-w0irAQywL",
        "colab_type": "code",
        "colab": {
          "base_uri": "https://localhost:8080/",
          "height": 195
        },
        "outputId": "8ba7c403-e528-49b3-abbd-7fdf8dd8bcfe"
      },
      "source": [
        "subs = pd.read_csv('https://als-hiring.s3.amazonaws.com/fake_data/2020-07-01_17%3A11%3A00/cons_email_chapter_subscription.csv')\n",
        "subs.head()"
      ],
      "execution_count": 3,
      "outputs": [
        {
          "output_type": "execute_result",
          "data": {
            "text/html": [
              "<div>\n",
              "<style scoped>\n",
              "    .dataframe tbody tr th:only-of-type {\n",
              "        vertical-align: middle;\n",
              "    }\n",
              "\n",
              "    .dataframe tbody tr th {\n",
              "        vertical-align: top;\n",
              "    }\n",
              "\n",
              "    .dataframe thead th {\n",
              "        text-align: right;\n",
              "    }\n",
              "</style>\n",
              "<table border=\"1\" class=\"dataframe\">\n",
              "  <thead>\n",
              "    <tr style=\"text-align: right;\">\n",
              "      <th></th>\n",
              "      <th>cons_email_chapter_subscription_id</th>\n",
              "      <th>cons_email_id</th>\n",
              "      <th>chapter_id</th>\n",
              "      <th>isunsub</th>\n",
              "      <th>unsub_dt</th>\n",
              "      <th>modified_dt</th>\n",
              "    </tr>\n",
              "  </thead>\n",
              "  <tbody>\n",
              "    <tr>\n",
              "      <th>0</th>\n",
              "      <td>1</td>\n",
              "      <td>332188</td>\n",
              "      <td>1</td>\n",
              "      <td>1</td>\n",
              "      <td>Sat, 1971-06-12 15:38:44</td>\n",
              "      <td>Thu, 1990-06-28 10:54:20</td>\n",
              "    </tr>\n",
              "    <tr>\n",
              "      <th>1</th>\n",
              "      <td>2</td>\n",
              "      <td>536526</td>\n",
              "      <td>1</td>\n",
              "      <td>1</td>\n",
              "      <td>Wed, 2006-07-12 01:50:45</td>\n",
              "      <td>Thu, 1979-09-20 06:02:35</td>\n",
              "    </tr>\n",
              "    <tr>\n",
              "      <th>2</th>\n",
              "      <td>3</td>\n",
              "      <td>134711</td>\n",
              "      <td>1</td>\n",
              "      <td>1</td>\n",
              "      <td>Tue, 1987-01-06 13:05:15</td>\n",
              "      <td>Sun, 1974-03-03 15:11:50</td>\n",
              "    </tr>\n",
              "    <tr>\n",
              "      <th>3</th>\n",
              "      <td>4</td>\n",
              "      <td>660345</td>\n",
              "      <td>1</td>\n",
              "      <td>1</td>\n",
              "      <td>Sat, 2016-08-06 11:06:09</td>\n",
              "      <td>Wed, 1995-09-13 23:45:03</td>\n",
              "    </tr>\n",
              "    <tr>\n",
              "      <th>4</th>\n",
              "      <td>5</td>\n",
              "      <td>184268</td>\n",
              "      <td>1</td>\n",
              "      <td>1</td>\n",
              "      <td>Sun, 2000-05-28 02:20:45</td>\n",
              "      <td>Sat, 1983-12-10 08:09:58</td>\n",
              "    </tr>\n",
              "  </tbody>\n",
              "</table>\n",
              "</div>"
            ],
            "text/plain": [
              "   cons_email_chapter_subscription_id  ...               modified_dt\n",
              "0                                   1  ...  Thu, 1990-06-28 10:54:20\n",
              "1                                   2  ...  Thu, 1979-09-20 06:02:35\n",
              "2                                   3  ...  Sun, 1974-03-03 15:11:50\n",
              "3                                   4  ...  Wed, 1995-09-13 23:45:03\n",
              "4                                   5  ...  Sat, 1983-12-10 08:09:58\n",
              "\n",
              "[5 rows x 6 columns]"
            ]
          },
          "metadata": {
            "tags": []
          },
          "execution_count": 3
        }
      ]
    },
    {
      "cell_type": "code",
      "metadata": {
        "id": "rtK-M0WpRorj",
        "colab_type": "code",
        "colab": {
          "base_uri": "https://localhost:8080/",
          "height": 34
        },
        "outputId": "05fedb8e-2490-4b32-a1fa-01ceb2e54e9d"
      },
      "source": [
        "len(cons), len(email), len(subs)"
      ],
      "execution_count": 4,
      "outputs": [
        {
          "output_type": "execute_result",
          "data": {
            "text/plain": [
              "(700000, 1400000, 350000)"
            ]
          },
          "metadata": {
            "tags": []
          },
          "execution_count": 4
        }
      ]
    },
    {
      "cell_type": "code",
      "metadata": {
        "id": "gFl_HbaQR65G",
        "colab_type": "code",
        "colab": {
          "base_uri": "https://localhost:8080/",
          "height": 195
        },
        "outputId": "f9506cb5-cc3f-4320-806b-038b5d4d3922"
      },
      "source": [
        "people = cons[['cons_id']]\n",
        "people.head()"
      ],
      "execution_count": 5,
      "outputs": [
        {
          "output_type": "execute_result",
          "data": {
            "text/html": [
              "<div>\n",
              "<style scoped>\n",
              "    .dataframe tbody tr th:only-of-type {\n",
              "        vertical-align: middle;\n",
              "    }\n",
              "\n",
              "    .dataframe tbody tr th {\n",
              "        vertical-align: top;\n",
              "    }\n",
              "\n",
              "    .dataframe thead th {\n",
              "        text-align: right;\n",
              "    }\n",
              "</style>\n",
              "<table border=\"1\" class=\"dataframe\">\n",
              "  <thead>\n",
              "    <tr style=\"text-align: right;\">\n",
              "      <th></th>\n",
              "      <th>cons_id</th>\n",
              "    </tr>\n",
              "  </thead>\n",
              "  <tbody>\n",
              "    <tr>\n",
              "      <th>0</th>\n",
              "      <td>1</td>\n",
              "    </tr>\n",
              "    <tr>\n",
              "      <th>1</th>\n",
              "      <td>2</td>\n",
              "    </tr>\n",
              "    <tr>\n",
              "      <th>2</th>\n",
              "      <td>3</td>\n",
              "    </tr>\n",
              "    <tr>\n",
              "      <th>3</th>\n",
              "      <td>4</td>\n",
              "    </tr>\n",
              "    <tr>\n",
              "      <th>4</th>\n",
              "      <td>5</td>\n",
              "    </tr>\n",
              "  </tbody>\n",
              "</table>\n",
              "</div>"
            ],
            "text/plain": [
              "   cons_id\n",
              "0        1\n",
              "1        2\n",
              "2        3\n",
              "3        4\n",
              "4        5"
            ]
          },
          "metadata": {
            "tags": []
          },
          "execution_count": 5
        }
      ]
    },
    {
      "cell_type": "code",
      "metadata": {
        "id": "xeY_bgC6hOHt",
        "colab_type": "code",
        "colab": {
          "base_uri": "https://localhost:8080/",
          "height": 195
        },
        "outputId": "702760c2-855e-4d73-bf3b-73328f301c5c"
      },
      "source": [
        "# I chose an outer join in order to keep all the available information.\n",
        "people = people.merge(email[['cons_email_id', 'cons_id', 'email']], how='outer', on='cons_id')\n",
        "people.head()"
      ],
      "execution_count": 6,
      "outputs": [
        {
          "output_type": "execute_result",
          "data": {
            "text/html": [
              "<div>\n",
              "<style scoped>\n",
              "    .dataframe tbody tr th:only-of-type {\n",
              "        vertical-align: middle;\n",
              "    }\n",
              "\n",
              "    .dataframe tbody tr th {\n",
              "        vertical-align: top;\n",
              "    }\n",
              "\n",
              "    .dataframe thead th {\n",
              "        text-align: right;\n",
              "    }\n",
              "</style>\n",
              "<table border=\"1\" class=\"dataframe\">\n",
              "  <thead>\n",
              "    <tr style=\"text-align: right;\">\n",
              "      <th></th>\n",
              "      <th>cons_id</th>\n",
              "      <th>cons_email_id</th>\n",
              "      <th>email</th>\n",
              "    </tr>\n",
              "  </thead>\n",
              "  <tbody>\n",
              "    <tr>\n",
              "      <th>0</th>\n",
              "      <td>1</td>\n",
              "      <td>546912.0</td>\n",
              "      <td>daniel72@hudson.com</td>\n",
              "    </tr>\n",
              "    <tr>\n",
              "      <th>1</th>\n",
              "      <td>1</td>\n",
              "      <td>560549.0</td>\n",
              "      <td>misty66@walsh-hampton.biz</td>\n",
              "    </tr>\n",
              "    <tr>\n",
              "      <th>2</th>\n",
              "      <td>1</td>\n",
              "      <td>1244042.0</td>\n",
              "      <td>lucassmith@yahoo.com</td>\n",
              "    </tr>\n",
              "    <tr>\n",
              "      <th>3</th>\n",
              "      <td>2</td>\n",
              "      <td>415587.0</td>\n",
              "      <td>caustin@spears-carson.com</td>\n",
              "    </tr>\n",
              "    <tr>\n",
              "      <th>4</th>\n",
              "      <td>2</td>\n",
              "      <td>642652.0</td>\n",
              "      <td>deborah57@shaffer-reed.org</td>\n",
              "    </tr>\n",
              "  </tbody>\n",
              "</table>\n",
              "</div>"
            ],
            "text/plain": [
              "   cons_id  cons_email_id                       email\n",
              "0        1       546912.0         daniel72@hudson.com\n",
              "1        1       560549.0   misty66@walsh-hampton.biz\n",
              "2        1      1244042.0        lucassmith@yahoo.com\n",
              "3        2       415587.0   caustin@spears-carson.com\n",
              "4        2       642652.0  deborah57@shaffer-reed.org"
            ]
          },
          "metadata": {
            "tags": []
          },
          "execution_count": 6
        }
      ]
    },
    {
      "cell_type": "code",
      "metadata": {
        "id": "rAx3JmrHmhIR",
        "colab_type": "code",
        "colab": {
          "base_uri": "https://localhost:8080/",
          "height": 34
        },
        "outputId": "ddc4be7c-736a-4409-cf67-298f3aa3a225"
      },
      "source": [
        "len(people)"
      ],
      "execution_count": 7,
      "outputs": [
        {
          "output_type": "execute_result",
          "data": {
            "text/plain": [
              "1494361"
            ]
          },
          "metadata": {
            "tags": []
          },
          "execution_count": 7
        }
      ]
    },
    {
      "cell_type": "code",
      "metadata": {
        "id": "7ZDDTVuIrNex",
        "colab_type": "code",
        "colab": {
          "base_uri": "https://localhost:8080/",
          "height": 195
        },
        "outputId": "07a4b819-85e1-462c-b876-dbd1b00f291e"
      },
      "source": [
        "people = people.merge(cons[['cons_id', 'source']], on='cons_id', how='outer')\n",
        "people.head()"
      ],
      "execution_count": 8,
      "outputs": [
        {
          "output_type": "execute_result",
          "data": {
            "text/html": [
              "<div>\n",
              "<style scoped>\n",
              "    .dataframe tbody tr th:only-of-type {\n",
              "        vertical-align: middle;\n",
              "    }\n",
              "\n",
              "    .dataframe tbody tr th {\n",
              "        vertical-align: top;\n",
              "    }\n",
              "\n",
              "    .dataframe thead th {\n",
              "        text-align: right;\n",
              "    }\n",
              "</style>\n",
              "<table border=\"1\" class=\"dataframe\">\n",
              "  <thead>\n",
              "    <tr style=\"text-align: right;\">\n",
              "      <th></th>\n",
              "      <th>cons_id</th>\n",
              "      <th>cons_email_id</th>\n",
              "      <th>email</th>\n",
              "      <th>source</th>\n",
              "    </tr>\n",
              "  </thead>\n",
              "  <tbody>\n",
              "    <tr>\n",
              "      <th>0</th>\n",
              "      <td>1</td>\n",
              "      <td>546912.0</td>\n",
              "      <td>daniel72@hudson.com</td>\n",
              "      <td>google</td>\n",
              "    </tr>\n",
              "    <tr>\n",
              "      <th>1</th>\n",
              "      <td>1</td>\n",
              "      <td>560549.0</td>\n",
              "      <td>misty66@walsh-hampton.biz</td>\n",
              "      <td>google</td>\n",
              "    </tr>\n",
              "    <tr>\n",
              "      <th>2</th>\n",
              "      <td>1</td>\n",
              "      <td>1244042.0</td>\n",
              "      <td>lucassmith@yahoo.com</td>\n",
              "      <td>google</td>\n",
              "    </tr>\n",
              "    <tr>\n",
              "      <th>3</th>\n",
              "      <td>2</td>\n",
              "      <td>415587.0</td>\n",
              "      <td>caustin@spears-carson.com</td>\n",
              "      <td>facebook</td>\n",
              "    </tr>\n",
              "    <tr>\n",
              "      <th>4</th>\n",
              "      <td>2</td>\n",
              "      <td>642652.0</td>\n",
              "      <td>deborah57@shaffer-reed.org</td>\n",
              "      <td>facebook</td>\n",
              "    </tr>\n",
              "  </tbody>\n",
              "</table>\n",
              "</div>"
            ],
            "text/plain": [
              "   cons_id  cons_email_id                       email    source\n",
              "0        1       546912.0         daniel72@hudson.com    google\n",
              "1        1       560549.0   misty66@walsh-hampton.biz    google\n",
              "2        1      1244042.0        lucassmith@yahoo.com    google\n",
              "3        2       415587.0   caustin@spears-carson.com  facebook\n",
              "4        2       642652.0  deborah57@shaffer-reed.org  facebook"
            ]
          },
          "metadata": {
            "tags": []
          },
          "execution_count": 8
        }
      ]
    },
    {
      "cell_type": "code",
      "metadata": {
        "id": "wo_Co0AxmwEb",
        "colab_type": "code",
        "colab": {
          "base_uri": "https://localhost:8080/",
          "height": 195
        },
        "outputId": "6270133d-aca3-489e-bb53-2f688271c060"
      },
      "source": [
        "people = people.merge(subs[['cons_email_id', 'isunsub']], on='cons_email_id', how='outer')\n",
        "people.head()"
      ],
      "execution_count": 9,
      "outputs": [
        {
          "output_type": "execute_result",
          "data": {
            "text/html": [
              "<div>\n",
              "<style scoped>\n",
              "    .dataframe tbody tr th:only-of-type {\n",
              "        vertical-align: middle;\n",
              "    }\n",
              "\n",
              "    .dataframe tbody tr th {\n",
              "        vertical-align: top;\n",
              "    }\n",
              "\n",
              "    .dataframe thead th {\n",
              "        text-align: right;\n",
              "    }\n",
              "</style>\n",
              "<table border=\"1\" class=\"dataframe\">\n",
              "  <thead>\n",
              "    <tr style=\"text-align: right;\">\n",
              "      <th></th>\n",
              "      <th>cons_id</th>\n",
              "      <th>cons_email_id</th>\n",
              "      <th>email</th>\n",
              "      <th>source</th>\n",
              "      <th>isunsub</th>\n",
              "    </tr>\n",
              "  </thead>\n",
              "  <tbody>\n",
              "    <tr>\n",
              "      <th>0</th>\n",
              "      <td>1</td>\n",
              "      <td>546912.0</td>\n",
              "      <td>daniel72@hudson.com</td>\n",
              "      <td>google</td>\n",
              "      <td>NaN</td>\n",
              "    </tr>\n",
              "    <tr>\n",
              "      <th>1</th>\n",
              "      <td>1</td>\n",
              "      <td>560549.0</td>\n",
              "      <td>misty66@walsh-hampton.biz</td>\n",
              "      <td>google</td>\n",
              "      <td>NaN</td>\n",
              "    </tr>\n",
              "    <tr>\n",
              "      <th>2</th>\n",
              "      <td>1</td>\n",
              "      <td>1244042.0</td>\n",
              "      <td>lucassmith@yahoo.com</td>\n",
              "      <td>google</td>\n",
              "      <td>NaN</td>\n",
              "    </tr>\n",
              "    <tr>\n",
              "      <th>3</th>\n",
              "      <td>2</td>\n",
              "      <td>415587.0</td>\n",
              "      <td>caustin@spears-carson.com</td>\n",
              "      <td>facebook</td>\n",
              "      <td>1.0</td>\n",
              "    </tr>\n",
              "    <tr>\n",
              "      <th>4</th>\n",
              "      <td>2</td>\n",
              "      <td>642652.0</td>\n",
              "      <td>deborah57@shaffer-reed.org</td>\n",
              "      <td>facebook</td>\n",
              "      <td>1.0</td>\n",
              "    </tr>\n",
              "  </tbody>\n",
              "</table>\n",
              "</div>"
            ],
            "text/plain": [
              "   cons_id  cons_email_id                       email    source  isunsub\n",
              "0        1       546912.0         daniel72@hudson.com    google      NaN\n",
              "1        1       560549.0   misty66@walsh-hampton.biz    google      NaN\n",
              "2        1      1244042.0        lucassmith@yahoo.com    google      NaN\n",
              "3        2       415587.0   caustin@spears-carson.com  facebook      1.0\n",
              "4        2       642652.0  deborah57@shaffer-reed.org  facebook      1.0"
            ]
          },
          "metadata": {
            "tags": []
          },
          "execution_count": 9
        }
      ]
    },
    {
      "cell_type": "code",
      "metadata": {
        "id": "2c6I5leNsilG",
        "colab_type": "code",
        "colab": {
          "base_uri": "https://localhost:8080/",
          "height": 34
        },
        "outputId": "4606fa15-ff18-496e-f6da-c7418dec7659"
      },
      "source": [
        "len(people)"
      ],
      "execution_count": 10,
      "outputs": [
        {
          "output_type": "execute_result",
          "data": {
            "text/plain": [
              "1568877"
            ]
          },
          "metadata": {
            "tags": []
          },
          "execution_count": 10
        }
      ]
    },
    {
      "cell_type": "code",
      "metadata": {
        "id": "g2jZTTXMuYMg",
        "colab_type": "code",
        "colab": {
          "base_uri": "https://localhost:8080/",
          "height": 195
        },
        "outputId": "72739d37-b10a-4eb0-bea7-43e9af701265"
      },
      "source": [
        "people = people.merge(cons[['cons_id', 'create_dt', 'modified_dt']], on='cons_id', how='outer')\n",
        "people.head()"
      ],
      "execution_count": 11,
      "outputs": [
        {
          "output_type": "execute_result",
          "data": {
            "text/html": [
              "<div>\n",
              "<style scoped>\n",
              "    .dataframe tbody tr th:only-of-type {\n",
              "        vertical-align: middle;\n",
              "    }\n",
              "\n",
              "    .dataframe tbody tr th {\n",
              "        vertical-align: top;\n",
              "    }\n",
              "\n",
              "    .dataframe thead th {\n",
              "        text-align: right;\n",
              "    }\n",
              "</style>\n",
              "<table border=\"1\" class=\"dataframe\">\n",
              "  <thead>\n",
              "    <tr style=\"text-align: right;\">\n",
              "      <th></th>\n",
              "      <th>cons_id</th>\n",
              "      <th>cons_email_id</th>\n",
              "      <th>email</th>\n",
              "      <th>source</th>\n",
              "      <th>isunsub</th>\n",
              "      <th>create_dt</th>\n",
              "      <th>modified_dt</th>\n",
              "    </tr>\n",
              "  </thead>\n",
              "  <tbody>\n",
              "    <tr>\n",
              "      <th>0</th>\n",
              "      <td>1</td>\n",
              "      <td>546912.0</td>\n",
              "      <td>daniel72@hudson.com</td>\n",
              "      <td>google</td>\n",
              "      <td>NaN</td>\n",
              "      <td>Fri, 1983-08-26 06:02:03</td>\n",
              "      <td>Sun, 2015-12-27 09:28:02</td>\n",
              "    </tr>\n",
              "    <tr>\n",
              "      <th>1</th>\n",
              "      <td>1</td>\n",
              "      <td>560549.0</td>\n",
              "      <td>misty66@walsh-hampton.biz</td>\n",
              "      <td>google</td>\n",
              "      <td>NaN</td>\n",
              "      <td>Fri, 1983-08-26 06:02:03</td>\n",
              "      <td>Sun, 2015-12-27 09:28:02</td>\n",
              "    </tr>\n",
              "    <tr>\n",
              "      <th>2</th>\n",
              "      <td>1</td>\n",
              "      <td>1244042.0</td>\n",
              "      <td>lucassmith@yahoo.com</td>\n",
              "      <td>google</td>\n",
              "      <td>NaN</td>\n",
              "      <td>Fri, 1983-08-26 06:02:03</td>\n",
              "      <td>Sun, 2015-12-27 09:28:02</td>\n",
              "    </tr>\n",
              "    <tr>\n",
              "      <th>3</th>\n",
              "      <td>2</td>\n",
              "      <td>415587.0</td>\n",
              "      <td>caustin@spears-carson.com</td>\n",
              "      <td>facebook</td>\n",
              "      <td>1.0</td>\n",
              "      <td>Mon, 1979-03-05 21:08:54</td>\n",
              "      <td>Tue, 1989-06-20 13:28:57</td>\n",
              "    </tr>\n",
              "    <tr>\n",
              "      <th>4</th>\n",
              "      <td>2</td>\n",
              "      <td>642652.0</td>\n",
              "      <td>deborah57@shaffer-reed.org</td>\n",
              "      <td>facebook</td>\n",
              "      <td>1.0</td>\n",
              "      <td>Mon, 1979-03-05 21:08:54</td>\n",
              "      <td>Tue, 1989-06-20 13:28:57</td>\n",
              "    </tr>\n",
              "  </tbody>\n",
              "</table>\n",
              "</div>"
            ],
            "text/plain": [
              "   cons_id  cons_email_id  ...                 create_dt               modified_dt\n",
              "0        1       546912.0  ...  Fri, 1983-08-26 06:02:03  Sun, 2015-12-27 09:28:02\n",
              "1        1       560549.0  ...  Fri, 1983-08-26 06:02:03  Sun, 2015-12-27 09:28:02\n",
              "2        1      1244042.0  ...  Fri, 1983-08-26 06:02:03  Sun, 2015-12-27 09:28:02\n",
              "3        2       415587.0  ...  Mon, 1979-03-05 21:08:54  Tue, 1989-06-20 13:28:57\n",
              "4        2       642652.0  ...  Mon, 1979-03-05 21:08:54  Tue, 1989-06-20 13:28:57\n",
              "\n",
              "[5 rows x 7 columns]"
            ]
          },
          "metadata": {
            "tags": []
          },
          "execution_count": 11
        }
      ]
    },
    {
      "cell_type": "code",
      "metadata": {
        "id": "ba2XqI1-oSyO",
        "colab_type": "code",
        "colab": {
          "base_uri": "https://localhost:8080/",
          "height": 195
        },
        "outputId": "e407484b-b25d-4894-b09a-7b75c7bab3c0"
      },
      "source": [
        "people = people.rename(columns={'source': 'code','isunsub': 'is_unsub', 'create_dt': 'created_dt', 'modified_dt': 'updated_dt'})\n",
        "people.head()"
      ],
      "execution_count": 12,
      "outputs": [
        {
          "output_type": "execute_result",
          "data": {
            "text/html": [
              "<div>\n",
              "<style scoped>\n",
              "    .dataframe tbody tr th:only-of-type {\n",
              "        vertical-align: middle;\n",
              "    }\n",
              "\n",
              "    .dataframe tbody tr th {\n",
              "        vertical-align: top;\n",
              "    }\n",
              "\n",
              "    .dataframe thead th {\n",
              "        text-align: right;\n",
              "    }\n",
              "</style>\n",
              "<table border=\"1\" class=\"dataframe\">\n",
              "  <thead>\n",
              "    <tr style=\"text-align: right;\">\n",
              "      <th></th>\n",
              "      <th>cons_id</th>\n",
              "      <th>cons_email_id</th>\n",
              "      <th>email</th>\n",
              "      <th>code</th>\n",
              "      <th>is_unsub</th>\n",
              "      <th>created_dt</th>\n",
              "      <th>updated_dt</th>\n",
              "    </tr>\n",
              "  </thead>\n",
              "  <tbody>\n",
              "    <tr>\n",
              "      <th>0</th>\n",
              "      <td>1</td>\n",
              "      <td>546912.0</td>\n",
              "      <td>daniel72@hudson.com</td>\n",
              "      <td>google</td>\n",
              "      <td>NaN</td>\n",
              "      <td>Fri, 1983-08-26 06:02:03</td>\n",
              "      <td>Sun, 2015-12-27 09:28:02</td>\n",
              "    </tr>\n",
              "    <tr>\n",
              "      <th>1</th>\n",
              "      <td>1</td>\n",
              "      <td>560549.0</td>\n",
              "      <td>misty66@walsh-hampton.biz</td>\n",
              "      <td>google</td>\n",
              "      <td>NaN</td>\n",
              "      <td>Fri, 1983-08-26 06:02:03</td>\n",
              "      <td>Sun, 2015-12-27 09:28:02</td>\n",
              "    </tr>\n",
              "    <tr>\n",
              "      <th>2</th>\n",
              "      <td>1</td>\n",
              "      <td>1244042.0</td>\n",
              "      <td>lucassmith@yahoo.com</td>\n",
              "      <td>google</td>\n",
              "      <td>NaN</td>\n",
              "      <td>Fri, 1983-08-26 06:02:03</td>\n",
              "      <td>Sun, 2015-12-27 09:28:02</td>\n",
              "    </tr>\n",
              "    <tr>\n",
              "      <th>3</th>\n",
              "      <td>2</td>\n",
              "      <td>415587.0</td>\n",
              "      <td>caustin@spears-carson.com</td>\n",
              "      <td>facebook</td>\n",
              "      <td>1.0</td>\n",
              "      <td>Mon, 1979-03-05 21:08:54</td>\n",
              "      <td>Tue, 1989-06-20 13:28:57</td>\n",
              "    </tr>\n",
              "    <tr>\n",
              "      <th>4</th>\n",
              "      <td>2</td>\n",
              "      <td>642652.0</td>\n",
              "      <td>deborah57@shaffer-reed.org</td>\n",
              "      <td>facebook</td>\n",
              "      <td>1.0</td>\n",
              "      <td>Mon, 1979-03-05 21:08:54</td>\n",
              "      <td>Tue, 1989-06-20 13:28:57</td>\n",
              "    </tr>\n",
              "  </tbody>\n",
              "</table>\n",
              "</div>"
            ],
            "text/plain": [
              "   cons_id  cons_email_id  ...                created_dt                updated_dt\n",
              "0        1       546912.0  ...  Fri, 1983-08-26 06:02:03  Sun, 2015-12-27 09:28:02\n",
              "1        1       560549.0  ...  Fri, 1983-08-26 06:02:03  Sun, 2015-12-27 09:28:02\n",
              "2        1      1244042.0  ...  Fri, 1983-08-26 06:02:03  Sun, 2015-12-27 09:28:02\n",
              "3        2       415587.0  ...  Mon, 1979-03-05 21:08:54  Tue, 1989-06-20 13:28:57\n",
              "4        2       642652.0  ...  Mon, 1979-03-05 21:08:54  Tue, 1989-06-20 13:28:57\n",
              "\n",
              "[5 rows x 7 columns]"
            ]
          },
          "metadata": {
            "tags": []
          },
          "execution_count": 12
        }
      ]
    },
    {
      "cell_type": "code",
      "metadata": {
        "id": "XczUcKxuptwT",
        "colab_type": "code",
        "colab": {
          "base_uri": "https://localhost:8080/",
          "height": 67
        },
        "outputId": "3a31ef97-d28d-4d68-a795-91c30ae977bb"
      },
      "source": [
        "people.columns"
      ],
      "execution_count": 13,
      "outputs": [
        {
          "output_type": "execute_result",
          "data": {
            "text/plain": [
              "Index(['cons_id', 'cons_email_id', 'email', 'code', 'is_unsub', 'created_dt',\n",
              "       'updated_dt'],\n",
              "      dtype='object')"
            ]
          },
          "metadata": {
            "tags": []
          },
          "execution_count": 13
        }
      ]
    },
    {
      "cell_type": "code",
      "metadata": {
        "id": "W-rrmYWLvnbL",
        "colab_type": "code",
        "colab": {
          "base_uri": "https://localhost:8080/",
          "height": 134
        },
        "outputId": "4317d95e-3da1-4fa0-eea7-7bb1246466eb"
      },
      "source": [
        "for col in people.columns:\n",
        "    print(col, type(people[col][0]))"
      ],
      "execution_count": 14,
      "outputs": [
        {
          "output_type": "stream",
          "text": [
            "cons_id <class 'numpy.int64'>\n",
            "cons_email_id <class 'numpy.float64'>\n",
            "email <class 'str'>\n",
            "code <class 'str'>\n",
            "is_unsub <class 'numpy.float64'>\n",
            "created_dt <class 'str'>\n",
            "updated_dt <class 'str'>\n"
          ],
          "name": "stdout"
        }
      ]
    },
    {
      "cell_type": "code",
      "metadata": {
        "id": "TxY3B9vxvx7v",
        "colab_type": "code",
        "colab": {
          "base_uri": "https://localhost:8080/",
          "height": 151
        },
        "outputId": "07d005f8-86a3-4830-9c37-870eb1420109"
      },
      "source": [
        "people.dtypes"
      ],
      "execution_count": 15,
      "outputs": [
        {
          "output_type": "execute_result",
          "data": {
            "text/plain": [
              "cons_id            int64\n",
              "cons_email_id    float64\n",
              "email             object\n",
              "code              object\n",
              "is_unsub         float64\n",
              "created_dt        object\n",
              "updated_dt        object\n",
              "dtype: object"
            ]
          },
          "metadata": {
            "tags": []
          },
          "execution_count": 15
        }
      ]
    },
    {
      "cell_type": "code",
      "metadata": {
        "id": "oXgCeWXrxCJN",
        "colab_type": "code",
        "colab": {
          "base_uri": "https://localhost:8080/",
          "height": 67
        },
        "outputId": "b35aea13-2947-4f05-e148-ab15eca80861"
      },
      "source": [
        "people['is_unsub'].value_counts()"
      ],
      "execution_count": 16,
      "outputs": [
        {
          "output_type": "execute_result",
          "data": {
            "text/plain": [
              "1.0    315474\n",
              "0.0     34526\n",
              "Name: is_unsub, dtype: int64"
            ]
          },
          "metadata": {
            "tags": []
          },
          "execution_count": 16
        }
      ]
    },
    {
      "cell_type": "code",
      "metadata": {
        "id": "hJUHyTeeMtd2",
        "colab_type": "code",
        "colab": {
          "base_uri": "https://localhost:8080/",
          "height": 34
        },
        "outputId": "75ab4eb1-6fba-4927-ffc1-dbc38f72960a"
      },
      "source": [
        "len(people)"
      ],
      "execution_count": 17,
      "outputs": [
        {
          "output_type": "execute_result",
          "data": {
            "text/plain": [
              "1568877"
            ]
          },
          "metadata": {
            "tags": []
          },
          "execution_count": 17
        }
      ]
    },
    {
      "cell_type": "code",
      "metadata": {
        "id": "Tp-R_5SDxZdG",
        "colab_type": "code",
        "colab": {
          "base_uri": "https://localhost:8080/",
          "height": 50
        },
        "outputId": "287828fe-b554-4a63-ef6a-81db6d3cc3a0"
      },
      "source": [
        "%%time\n",
        "# Converting dates to datetime\n",
        "cols = ['created_dt', 'updated_dt']\n",
        "for col in cols:\n",
        "    people[col] = pd.to_datetime(people[col])"
      ],
      "execution_count": 18,
      "outputs": [
        {
          "output_type": "stream",
          "text": [
            "CPU times: user 5min 22s, sys: 22.8 ms, total: 5min 22s\n",
            "Wall time: 5min 22s\n"
          ],
          "name": "stdout"
        }
      ]
    },
    {
      "cell_type": "code",
      "metadata": {
        "id": "FdeOPB1QVoAR",
        "colab_type": "code",
        "colab": {
          "base_uri": "https://localhost:8080/",
          "height": 151
        },
        "outputId": "10764afd-7981-4e90-e253-c1428f2dd059"
      },
      "source": [
        "people.isna().sum()"
      ],
      "execution_count": 19,
      "outputs": [
        {
          "output_type": "execute_result",
          "data": {
            "text/plain": [
              "cons_id                0\n",
              "cons_email_id      94361\n",
              "email              94361\n",
              "code              783783\n",
              "is_unsub         1218877\n",
              "created_dt             0\n",
              "updated_dt             0\n",
              "dtype: int64"
            ]
          },
          "metadata": {
            "tags": []
          },
          "execution_count": 19
        }
      ]
    },
    {
      "cell_type": "code",
      "metadata": {
        "id": "9VbIezc3NfLi",
        "colab_type": "code",
        "colab": {
          "base_uri": "https://localhost:8080/",
          "height": 195
        },
        "outputId": "50a89352-5fbc-4b7a-d8ab-380c52d95d95"
      },
      "source": [
        "# Converting ID and boolean back to ints\n",
        "# I chose to leave NaNs or blanks in the dataframe so that the information can\n",
        "# be filled in as it is acquired\n",
        "cols = ['cons_email_id', 'is_unsub']\n",
        "for col in cols:\n",
        "    people[col] = people[col].apply(lambda x: int(x) if x == x else '')\n",
        "people.head()"
      ],
      "execution_count": 20,
      "outputs": [
        {
          "output_type": "execute_result",
          "data": {
            "text/html": [
              "<div>\n",
              "<style scoped>\n",
              "    .dataframe tbody tr th:only-of-type {\n",
              "        vertical-align: middle;\n",
              "    }\n",
              "\n",
              "    .dataframe tbody tr th {\n",
              "        vertical-align: top;\n",
              "    }\n",
              "\n",
              "    .dataframe thead th {\n",
              "        text-align: right;\n",
              "    }\n",
              "</style>\n",
              "<table border=\"1\" class=\"dataframe\">\n",
              "  <thead>\n",
              "    <tr style=\"text-align: right;\">\n",
              "      <th></th>\n",
              "      <th>cons_id</th>\n",
              "      <th>cons_email_id</th>\n",
              "      <th>email</th>\n",
              "      <th>code</th>\n",
              "      <th>is_unsub</th>\n",
              "      <th>created_dt</th>\n",
              "      <th>updated_dt</th>\n",
              "    </tr>\n",
              "  </thead>\n",
              "  <tbody>\n",
              "    <tr>\n",
              "      <th>0</th>\n",
              "      <td>1</td>\n",
              "      <td>546912</td>\n",
              "      <td>daniel72@hudson.com</td>\n",
              "      <td>google</td>\n",
              "      <td></td>\n",
              "      <td>1983-08-26 06:02:03</td>\n",
              "      <td>2015-12-27 09:28:02</td>\n",
              "    </tr>\n",
              "    <tr>\n",
              "      <th>1</th>\n",
              "      <td>1</td>\n",
              "      <td>560549</td>\n",
              "      <td>misty66@walsh-hampton.biz</td>\n",
              "      <td>google</td>\n",
              "      <td></td>\n",
              "      <td>1983-08-26 06:02:03</td>\n",
              "      <td>2015-12-27 09:28:02</td>\n",
              "    </tr>\n",
              "    <tr>\n",
              "      <th>2</th>\n",
              "      <td>1</td>\n",
              "      <td>1244042</td>\n",
              "      <td>lucassmith@yahoo.com</td>\n",
              "      <td>google</td>\n",
              "      <td></td>\n",
              "      <td>1983-08-26 06:02:03</td>\n",
              "      <td>2015-12-27 09:28:02</td>\n",
              "    </tr>\n",
              "    <tr>\n",
              "      <th>3</th>\n",
              "      <td>2</td>\n",
              "      <td>415587</td>\n",
              "      <td>caustin@spears-carson.com</td>\n",
              "      <td>facebook</td>\n",
              "      <td>1</td>\n",
              "      <td>1979-03-05 21:08:54</td>\n",
              "      <td>1989-06-20 13:28:57</td>\n",
              "    </tr>\n",
              "    <tr>\n",
              "      <th>4</th>\n",
              "      <td>2</td>\n",
              "      <td>642652</td>\n",
              "      <td>deborah57@shaffer-reed.org</td>\n",
              "      <td>facebook</td>\n",
              "      <td>1</td>\n",
              "      <td>1979-03-05 21:08:54</td>\n",
              "      <td>1989-06-20 13:28:57</td>\n",
              "    </tr>\n",
              "  </tbody>\n",
              "</table>\n",
              "</div>"
            ],
            "text/plain": [
              "   cons_id cons_email_id  ...          created_dt          updated_dt\n",
              "0        1        546912  ... 1983-08-26 06:02:03 2015-12-27 09:28:02\n",
              "1        1        560549  ... 1983-08-26 06:02:03 2015-12-27 09:28:02\n",
              "2        1       1244042  ... 1983-08-26 06:02:03 2015-12-27 09:28:02\n",
              "3        2        415587  ... 1979-03-05 21:08:54 1989-06-20 13:28:57\n",
              "4        2        642652  ... 1979-03-05 21:08:54 1989-06-20 13:28:57\n",
              "\n",
              "[5 rows x 7 columns]"
            ]
          },
          "metadata": {
            "tags": []
          },
          "execution_count": 20
        }
      ]
    },
    {
      "cell_type": "code",
      "metadata": {
        "id": "VYALXXGwzhX5",
        "colab_type": "code",
        "colab": {
          "base_uri": "https://localhost:8080/",
          "height": 151
        },
        "outputId": "a371f509-d44f-4fd4-c60f-32f8c93696bf"
      },
      "source": [
        "people.dtypes"
      ],
      "execution_count": 21,
      "outputs": [
        {
          "output_type": "execute_result",
          "data": {
            "text/plain": [
              "cons_id                   int64\n",
              "cons_email_id            object\n",
              "email                    object\n",
              "code                     object\n",
              "is_unsub                 object\n",
              "created_dt       datetime64[ns]\n",
              "updated_dt       datetime64[ns]\n",
              "dtype: object"
            ]
          },
          "metadata": {
            "tags": []
          },
          "execution_count": 21
        }
      ]
    },
    {
      "cell_type": "code",
      "metadata": {
        "id": "lwQzUD54z7R9",
        "colab_type": "code",
        "colab": {
          "base_uri": "https://localhost:8080/",
          "height": 151
        },
        "outputId": "17153c3a-175c-40e1-dbb3-6cf5bdeda8ae"
      },
      "source": [
        "people.isna().sum()"
      ],
      "execution_count": 22,
      "outputs": [
        {
          "output_type": "execute_result",
          "data": {
            "text/plain": [
              "cons_id               0\n",
              "cons_email_id         0\n",
              "email             94361\n",
              "code             783783\n",
              "is_unsub              0\n",
              "created_dt            0\n",
              "updated_dt            0\n",
              "dtype: int64"
            ]
          },
          "metadata": {
            "tags": []
          },
          "execution_count": 22
        }
      ]
    },
    {
      "cell_type": "code",
      "metadata": {
        "id": "uUmtzsErRCRD",
        "colab_type": "code",
        "colab": {
          "base_uri": "https://localhost:8080/",
          "height": 195
        },
        "outputId": "1cee9555-7cd4-4053-c813-0974db485c21"
      },
      "source": [
        "people.tail()"
      ],
      "execution_count": 23,
      "outputs": [
        {
          "output_type": "execute_result",
          "data": {
            "text/html": [
              "<div>\n",
              "<style scoped>\n",
              "    .dataframe tbody tr th:only-of-type {\n",
              "        vertical-align: middle;\n",
              "    }\n",
              "\n",
              "    .dataframe tbody tr th {\n",
              "        vertical-align: top;\n",
              "    }\n",
              "\n",
              "    .dataframe thead th {\n",
              "        text-align: right;\n",
              "    }\n",
              "</style>\n",
              "<table border=\"1\" class=\"dataframe\">\n",
              "  <thead>\n",
              "    <tr style=\"text-align: right;\">\n",
              "      <th></th>\n",
              "      <th>cons_id</th>\n",
              "      <th>cons_email_id</th>\n",
              "      <th>email</th>\n",
              "      <th>code</th>\n",
              "      <th>is_unsub</th>\n",
              "      <th>created_dt</th>\n",
              "      <th>updated_dt</th>\n",
              "    </tr>\n",
              "  </thead>\n",
              "  <tbody>\n",
              "    <tr>\n",
              "      <th>1568872</th>\n",
              "      <td>699999</td>\n",
              "      <td>1121156</td>\n",
              "      <td>jennifer52@olsen.org</td>\n",
              "      <td>google</td>\n",
              "      <td></td>\n",
              "      <td>1998-06-02 01:24:00</td>\n",
              "      <td>2014-06-01 11:16:45</td>\n",
              "    </tr>\n",
              "    <tr>\n",
              "      <th>1568873</th>\n",
              "      <td>700000</td>\n",
              "      <td>92309</td>\n",
              "      <td>christie54@gmail.com</td>\n",
              "      <td>NaN</td>\n",
              "      <td></td>\n",
              "      <td>1989-02-15 17:34:48</td>\n",
              "      <td>2020-04-30 19:39:18</td>\n",
              "    </tr>\n",
              "    <tr>\n",
              "      <th>1568874</th>\n",
              "      <td>700000</td>\n",
              "      <td>568843</td>\n",
              "      <td>shawnguzman@hotmail.com</td>\n",
              "      <td>NaN</td>\n",
              "      <td></td>\n",
              "      <td>1989-02-15 17:34:48</td>\n",
              "      <td>2020-04-30 19:39:18</td>\n",
              "    </tr>\n",
              "    <tr>\n",
              "      <th>1568875</th>\n",
              "      <td>700000</td>\n",
              "      <td>963789</td>\n",
              "      <td>hunterjohnny@gmail.com</td>\n",
              "      <td>NaN</td>\n",
              "      <td></td>\n",
              "      <td>1989-02-15 17:34:48</td>\n",
              "      <td>2020-04-30 19:39:18</td>\n",
              "    </tr>\n",
              "    <tr>\n",
              "      <th>1568876</th>\n",
              "      <td>700000</td>\n",
              "      <td>1199889</td>\n",
              "      <td>lisa34@gray.com</td>\n",
              "      <td>NaN</td>\n",
              "      <td></td>\n",
              "      <td>1989-02-15 17:34:48</td>\n",
              "      <td>2020-04-30 19:39:18</td>\n",
              "    </tr>\n",
              "  </tbody>\n",
              "</table>\n",
              "</div>"
            ],
            "text/plain": [
              "         cons_id cons_email_id  ...          created_dt          updated_dt\n",
              "1568872   699999       1121156  ... 1998-06-02 01:24:00 2014-06-01 11:16:45\n",
              "1568873   700000         92309  ... 1989-02-15 17:34:48 2020-04-30 19:39:18\n",
              "1568874   700000        568843  ... 1989-02-15 17:34:48 2020-04-30 19:39:18\n",
              "1568875   700000        963789  ... 1989-02-15 17:34:48 2020-04-30 19:39:18\n",
              "1568876   700000       1199889  ... 1989-02-15 17:34:48 2020-04-30 19:39:18\n",
              "\n",
              "[5 rows x 7 columns]"
            ]
          },
          "metadata": {
            "tags": []
          },
          "execution_count": 23
        }
      ]
    },
    {
      "cell_type": "code",
      "metadata": {
        "id": "P1vRmsG8weHO",
        "colab_type": "code",
        "colab": {}
      },
      "source": [
        "cons['create_dt'] = pd.to_datetime(cons['create_dt'])\n",
        "cons['create_dt'] = cons['create_dt'].dt.date"
      ],
      "execution_count": 24,
      "outputs": []
    },
    {
      "cell_type": "code",
      "metadata": {
        "id": "0N_CPuQtXuOU",
        "colab_type": "code",
        "colab": {
          "base_uri": "https://localhost:8080/",
          "height": 195
        },
        "outputId": "4a8f8e9b-25fc-40f2-9878-93bef7521314"
      },
      "source": [
        "acquisitions = cons[['cons_id', 'create_dt']]\n",
        "acquisitions.head()"
      ],
      "execution_count": 25,
      "outputs": [
        {
          "output_type": "execute_result",
          "data": {
            "text/html": [
              "<div>\n",
              "<style scoped>\n",
              "    .dataframe tbody tr th:only-of-type {\n",
              "        vertical-align: middle;\n",
              "    }\n",
              "\n",
              "    .dataframe tbody tr th {\n",
              "        vertical-align: top;\n",
              "    }\n",
              "\n",
              "    .dataframe thead th {\n",
              "        text-align: right;\n",
              "    }\n",
              "</style>\n",
              "<table border=\"1\" class=\"dataframe\">\n",
              "  <thead>\n",
              "    <tr style=\"text-align: right;\">\n",
              "      <th></th>\n",
              "      <th>cons_id</th>\n",
              "      <th>create_dt</th>\n",
              "    </tr>\n",
              "  </thead>\n",
              "  <tbody>\n",
              "    <tr>\n",
              "      <th>0</th>\n",
              "      <td>1</td>\n",
              "      <td>1983-08-26</td>\n",
              "    </tr>\n",
              "    <tr>\n",
              "      <th>1</th>\n",
              "      <td>2</td>\n",
              "      <td>1979-03-05</td>\n",
              "    </tr>\n",
              "    <tr>\n",
              "      <th>2</th>\n",
              "      <td>3</td>\n",
              "      <td>2008-08-22</td>\n",
              "    </tr>\n",
              "    <tr>\n",
              "      <th>3</th>\n",
              "      <td>4</td>\n",
              "      <td>1984-04-29</td>\n",
              "    </tr>\n",
              "    <tr>\n",
              "      <th>4</th>\n",
              "      <td>5</td>\n",
              "      <td>2007-07-19</td>\n",
              "    </tr>\n",
              "  </tbody>\n",
              "</table>\n",
              "</div>"
            ],
            "text/plain": [
              "   cons_id   create_dt\n",
              "0        1  1983-08-26\n",
              "1        2  1979-03-05\n",
              "2        3  2008-08-22\n",
              "3        4  1984-04-29\n",
              "4        5  2007-07-19"
            ]
          },
          "metadata": {
            "tags": []
          },
          "execution_count": 25
        }
      ]
    },
    {
      "cell_type": "code",
      "metadata": {
        "id": "3jYTUpbTyRlJ",
        "colab_type": "code",
        "colab": {}
      },
      "source": [
        "# Grouping the acquisitions by date\n",
        "dates = acquisitions.groupby('create_dt').groups"
      ],
      "execution_count": 26,
      "outputs": []
    },
    {
      "cell_type": "code",
      "metadata": {
        "id": "32LZo-N60f39",
        "colab_type": "code",
        "colab": {
          "base_uri": "https://localhost:8080/",
          "height": 34
        },
        "outputId": "b1f5aa78-1ad2-4417-8532-674eca0be913"
      },
      "source": [
        "len(dates)"
      ],
      "execution_count": 27,
      "outputs": [
        {
          "output_type": "execute_result",
          "data": {
            "text/plain": [
              "18445"
            ]
          },
          "metadata": {
            "tags": []
          },
          "execution_count": 27
        }
      ]
    },
    {
      "cell_type": "code",
      "metadata": {
        "id": "MKhydgr61-o3",
        "colab_type": "code",
        "colab": {}
      },
      "source": [
        "data = {'acquisition_date': list(dates.keys()), 'acquisitions': [len(dates[date]) for date in dates]}"
      ],
      "execution_count": 29,
      "outputs": []
    },
    {
      "cell_type": "code",
      "metadata": {
        "id": "oChWVdBW0lb2",
        "colab_type": "code",
        "colab": {
          "base_uri": "https://localhost:8080/",
          "height": 195
        },
        "outputId": "57845f82-7869-49e5-ff56-c0939da5be94"
      },
      "source": [
        "acquisition_facts = pd.DataFrame(data=data)\n",
        "acquisition_facts.head()"
      ],
      "execution_count": 30,
      "outputs": [
        {
          "output_type": "execute_result",
          "data": {
            "text/html": [
              "<div>\n",
              "<style scoped>\n",
              "    .dataframe tbody tr th:only-of-type {\n",
              "        vertical-align: middle;\n",
              "    }\n",
              "\n",
              "    .dataframe tbody tr th {\n",
              "        vertical-align: top;\n",
              "    }\n",
              "\n",
              "    .dataframe thead th {\n",
              "        text-align: right;\n",
              "    }\n",
              "</style>\n",
              "<table border=\"1\" class=\"dataframe\">\n",
              "  <thead>\n",
              "    <tr style=\"text-align: right;\">\n",
              "      <th></th>\n",
              "      <th>acquisition_date</th>\n",
              "      <th>acquisitions</th>\n",
              "    </tr>\n",
              "  </thead>\n",
              "  <tbody>\n",
              "    <tr>\n",
              "      <th>0</th>\n",
              "      <td>1970-01-01</td>\n",
              "      <td>34</td>\n",
              "    </tr>\n",
              "    <tr>\n",
              "      <th>1</th>\n",
              "      <td>1970-01-02</td>\n",
              "      <td>38</td>\n",
              "    </tr>\n",
              "    <tr>\n",
              "      <th>2</th>\n",
              "      <td>1970-01-03</td>\n",
              "      <td>32</td>\n",
              "    </tr>\n",
              "    <tr>\n",
              "      <th>3</th>\n",
              "      <td>1970-01-04</td>\n",
              "      <td>39</td>\n",
              "    </tr>\n",
              "    <tr>\n",
              "      <th>4</th>\n",
              "      <td>1970-01-05</td>\n",
              "      <td>44</td>\n",
              "    </tr>\n",
              "  </tbody>\n",
              "</table>\n",
              "</div>"
            ],
            "text/plain": [
              "  acquisition_date  acquisitions\n",
              "0       1970-01-01            34\n",
              "1       1970-01-02            38\n",
              "2       1970-01-03            32\n",
              "3       1970-01-04            39\n",
              "4       1970-01-05            44"
            ]
          },
          "metadata": {
            "tags": []
          },
          "execution_count": 30
        }
      ]
    },
    {
      "cell_type": "code",
      "metadata": {
        "id": "G0-XG32F25ud",
        "colab_type": "code",
        "colab": {
          "base_uri": "https://localhost:8080/",
          "height": 34
        },
        "outputId": "3f55cd4b-3192-4037-afae-1eae09803d2b"
      },
      "source": [
        "# Making sure the number of dates in the dataframe match the number of dates in\n",
        "# the dictionary\n",
        "len(acquisition_facts) == len(dates)"
      ],
      "execution_count": 31,
      "outputs": [
        {
          "output_type": "execute_result",
          "data": {
            "text/plain": [
              "True"
            ]
          },
          "metadata": {
            "tags": []
          },
          "execution_count": 31
        }
      ]
    },
    {
      "cell_type": "code",
      "metadata": {
        "id": "xW3Z0RWg3bJU",
        "colab_type": "code",
        "colab": {}
      },
      "source": [
        "people.to_csv('people.csv', index=False)"
      ],
      "execution_count": 32,
      "outputs": []
    },
    {
      "cell_type": "code",
      "metadata": {
        "id": "9cvMuhkMUNSX",
        "colab_type": "code",
        "colab": {}
      },
      "source": [
        "acquisition_facts.to_csv('acquisition_facts.csv', index=False)"
      ],
      "execution_count": 33,
      "outputs": []
    }
  ]
}